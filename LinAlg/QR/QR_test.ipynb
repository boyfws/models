{
 "cells": [
  {
   "cell_type": "code",
   "id": "initial_id",
   "metadata": {
    "collapsed": true,
    "ExecuteTime": {
     "end_time": "2025-02-23T16:49:36.144518Z",
     "start_time": "2025-02-23T16:49:35.972540Z"
    }
   },
   "source": [
    "import numpy as np\n",
    "from QR import getQR"
   ],
   "outputs": [],
   "execution_count": 1
  },
  {
   "metadata": {
    "ExecuteTime": {
     "end_time": "2025-02-23T16:49:36.155867Z",
     "start_time": "2025-02-23T16:49:36.149786Z"
    }
   },
   "cell_type": "code",
   "source": [
    "matrix = np.array(\n",
    "    [[1, 2, 3],\n",
    "     [4, 5, 6],\n",
    "     [7, 8, 9]]\n",
    ")"
   ],
   "id": "87cc102c025befc0",
   "outputs": [],
   "execution_count": 2
  },
  {
   "metadata": {
    "ExecuteTime": {
     "end_time": "2025-02-23T16:49:36.343153Z",
     "start_time": "2025-02-23T16:49:36.336582Z"
    }
   },
   "cell_type": "code",
   "source": "Q, R = getQR(matrix)",
   "id": "2f694ca0602d0141",
   "outputs": [],
   "execution_count": 3
  },
  {
   "metadata": {
    "ExecuteTime": {
     "end_time": "2025-02-23T16:50:23.559315Z",
     "start_time": "2025-02-23T16:50:23.552347Z"
    }
   },
   "cell_type": "code",
   "source": "print((Q @ Q.T).astype(int))",
   "id": "b814a00440c1773c",
   "outputs": [
    {
     "name": "stdout",
     "output_type": "stream",
     "text": [
      "[[1 0 0]\n",
      " [0 1 0]\n",
      " [0 0 1]]\n"
     ]
    }
   ],
   "execution_count": 6
  },
  {
   "metadata": {
    "ExecuteTime": {
     "end_time": "2025-02-23T16:50:24.963337Z",
     "start_time": "2025-02-23T16:50:24.953653Z"
    }
   },
   "cell_type": "code",
   "source": "print((Q @ R).astype(int))",
   "id": "c98f2f5844c03c2",
   "outputs": [
    {
     "name": "stdout",
     "output_type": "stream",
     "text": [
      "[[1 2 3]\n",
      " [4 5 6]\n",
      " [7 8 9]]\n"
     ]
    }
   ],
   "execution_count": 7
  }
 ],
 "metadata": {
  "kernelspec": {
   "display_name": "Python 3",
   "language": "python",
   "name": "python3"
  },
  "language_info": {
   "codemirror_mode": {
    "name": "ipython",
    "version": 2
   },
   "file_extension": ".py",
   "mimetype": "text/x-python",
   "name": "python",
   "nbconvert_exporter": "python",
   "pygments_lexer": "ipython2",
   "version": "2.7.6"
  }
 },
 "nbformat": 4,
 "nbformat_minor": 5
}
