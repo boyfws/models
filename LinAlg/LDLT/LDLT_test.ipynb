{
 "cells": [
  {
   "cell_type": "code",
   "id": "initial_id",
   "metadata": {
    "collapsed": true,
    "ExecuteTime": {
     "end_time": "2025-02-23T14:55:51.400162Z",
     "start_time": "2025-02-23T14:55:51.156139Z"
    }
   },
   "source": [
    "import numpy as np\n",
    "from LDLT import getLDLT"
   ],
   "outputs": [],
   "execution_count": 1
  },
  {
   "metadata": {
    "ExecuteTime": {
     "end_time": "2025-02-23T14:55:51.410491Z",
     "start_time": "2025-02-23T14:55:51.406135Z"
    }
   },
   "cell_type": "code",
   "source": [
    "matrix = np.array(\n",
    "    [\n",
    "        [4, 12, -16],\n",
    "        [12, 37, -43],\n",
    "        [-16, -43, 98]\n",
    "    ]\n",
    ")"
   ],
   "id": "90b2d5a5029f37a9",
   "outputs": [],
   "execution_count": 2
  },
  {
   "metadata": {
    "ExecuteTime": {
     "end_time": "2025-02-23T14:55:51.629778Z",
     "start_time": "2025-02-23T14:55:51.623634Z"
    }
   },
   "cell_type": "code",
   "source": "L, D = getLDLT(matrix)",
   "id": "c445e210df2509d2",
   "outputs": [],
   "execution_count": 3
  },
  {
   "metadata": {
    "ExecuteTime": {
     "end_time": "2025-02-23T14:55:51.644136Z",
     "start_time": "2025-02-23T14:55:51.638489Z"
    }
   },
   "cell_type": "code",
   "source": "print(L)",
   "id": "adfe16427d7a82b4",
   "outputs": [
    {
     "name": "stdout",
     "output_type": "stream",
     "text": [
      "[[ 1.  0.  0.]\n",
      " [ 3.  1.  0.]\n",
      " [-4.  5.  1.]]\n"
     ]
    }
   ],
   "execution_count": 4
  },
  {
   "metadata": {
    "ExecuteTime": {
     "end_time": "2025-02-23T14:55:51.673658Z",
     "start_time": "2025-02-23T14:55:51.656684Z"
    }
   },
   "cell_type": "code",
   "source": "print(D)",
   "id": "5664d005b0b2be1e",
   "outputs": [
    {
     "name": "stdout",
     "output_type": "stream",
     "text": [
      "[[4. 0. 0.]\n",
      " [0. 1. 0.]\n",
      " [0. 0. 9.]]\n"
     ]
    }
   ],
   "execution_count": 5
  },
  {
   "metadata": {
    "ExecuteTime": {
     "end_time": "2025-02-23T14:55:51.696005Z",
     "start_time": "2025-02-23T14:55:51.688789Z"
    }
   },
   "cell_type": "code",
   "source": "check = L @ D @ L.T",
   "id": "80af5ecac5d3720d",
   "outputs": [],
   "execution_count": 6
  },
  {
   "metadata": {
    "ExecuteTime": {
     "end_time": "2025-02-23T14:55:51.732762Z",
     "start_time": "2025-02-23T14:55:51.726485Z"
    }
   },
   "cell_type": "code",
   "source": "assert np.allclose(check, matrix)",
   "id": "59f3003c1dc56427",
   "outputs": [],
   "execution_count": 7
  },
  {
   "metadata": {
    "ExecuteTime": {
     "end_time": "2025-02-23T14:55:51.771358Z",
     "start_time": "2025-02-23T14:55:51.764965Z"
    }
   },
   "cell_type": "code",
   "source": [
    "def generate_positive_definite_matrix(n):\n",
    "\n",
    "    random_matrix = np.random.rand(n, n)\n",
    "\n",
    "    A = np.dot(random_matrix.T, random_matrix)\n",
    "\n",
    "    A += np.eye(n) * 1e-6\n",
    "\n",
    "    return A"
   ],
   "id": "9ac988040c43aae8",
   "outputs": [],
   "execution_count": 8
  },
  {
   "metadata": {
    "ExecuteTime": {
     "end_time": "2025-02-23T14:56:00.287859Z",
     "start_time": "2025-02-23T14:55:51.794723Z"
    }
   },
   "cell_type": "code",
   "source": "matrix = generate_positive_definite_matrix(10 ** 4)",
   "id": "4e00df7141d23d8d",
   "outputs": [],
   "execution_count": 9
  },
  {
   "metadata": {
    "ExecuteTime": {
     "end_time": "2025-02-23T14:59:57.510996Z",
     "start_time": "2025-02-23T14:56:00.294517Z"
    }
   },
   "cell_type": "code",
   "source": "L, D = getLDLT(matrix)",
   "id": "e3b87ed43dede2f4",
   "outputs": [],
   "execution_count": 10
  },
  {
   "metadata": {
    "ExecuteTime": {
     "end_time": "2025-02-23T15:00:07.950769Z",
     "start_time": "2025-02-23T14:59:57.556554Z"
    }
   },
   "cell_type": "code",
   "source": "assert np.allclose(L @ D @ L.T, matrix)",
   "id": "3555908bb17db910",
   "outputs": [],
   "execution_count": 11
  }
 ],
 "metadata": {
  "kernelspec": {
   "display_name": "Python 3",
   "language": "python",
   "name": "python3"
  },
  "language_info": {
   "codemirror_mode": {
    "name": "ipython",
    "version": 2
   },
   "file_extension": ".py",
   "mimetype": "text/x-python",
   "name": "python",
   "nbconvert_exporter": "python",
   "pygments_lexer": "ipython2",
   "version": "2.7.6"
  }
 },
 "nbformat": 4,
 "nbformat_minor": 5
}
