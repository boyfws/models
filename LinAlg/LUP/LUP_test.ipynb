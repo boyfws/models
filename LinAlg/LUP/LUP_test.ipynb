{
 "cells": [
  {
   "metadata": {
    "ExecuteTime": {
     "end_time": "2025-02-20T02:52:08.473663Z",
     "start_time": "2025-02-20T02:52:08.304891Z"
    }
   },
   "cell_type": "code",
   "source": "import numpy as np\n",
   "id": "6e26a5ddf320be6f",
   "outputs": [],
   "execution_count": 1
  },
  {
   "metadata": {
    "collapsed": true,
    "ExecuteTime": {
     "end_time": "2025-02-20T02:52:08.517419Z",
     "start_time": "2025-02-20T02:52:08.488800Z"
    }
   },
   "cell_type": "code",
   "source": "from LUP import findLUP",
   "id": "initial_id",
   "outputs": [],
   "execution_count": 2
  },
  {
   "metadata": {
    "ExecuteTime": {
     "end_time": "2025-02-20T02:52:08.701650Z",
     "start_time": "2025-02-20T02:52:08.696249Z"
    }
   },
   "cell_type": "code",
   "source": [
    "matrix = np.array(\n",
    "    [\n",
    "        [ 4, 6, 71, 1],\n",
    "        [ 1, 0, 8, 1],\n",
    "        [4, 61, 71, 1],\n",
    "        [ 4, 6, 7, 13],\n",
    "    ]\n",
    ")"
   ],
   "id": "ea9d707781cf1d3d",
   "outputs": [],
   "execution_count": 3
  },
  {
   "metadata": {
    "ExecuteTime": {
     "end_time": "2025-02-20T02:52:08.726447Z",
     "start_time": "2025-02-20T02:52:08.717930Z"
    }
   },
   "cell_type": "code",
   "source": "matrix.shape",
   "id": "90cc9d60a88bebbd",
   "outputs": [
    {
     "data": {
      "text/plain": [
       "(4, 4)"
      ]
     },
     "execution_count": 4,
     "metadata": {},
     "output_type": "execute_result"
    }
   ],
   "execution_count": 4
  },
  {
   "metadata": {
    "ExecuteTime": {
     "end_time": "2025-02-20T02:52:08.747891Z",
     "start_time": "2025-02-20T02:52:08.737843Z"
    }
   },
   "cell_type": "code",
   "source": [
    "sing_val = np.linalg.svd(matrix).S\n",
    "\n",
    "\n",
    "sing_val.max() / sing_val.min()"
   ],
   "id": "488bc5e5651164ea",
   "outputs": [
    {
     "data": {
      "text/plain": [
       "394.6374923531631"
      ]
     },
     "execution_count": 5,
     "metadata": {},
     "output_type": "execute_result"
    }
   ],
   "execution_count": 5
  },
  {
   "metadata": {
    "ExecuteTime": {
     "end_time": "2025-02-20T02:52:08.779866Z",
     "start_time": "2025-02-20T02:52:08.774593Z"
    }
   },
   "cell_type": "code",
   "source": "P, L, U = findLUP(matrix)",
   "id": "7c4e8482e35e3cef",
   "outputs": [],
   "execution_count": 6
  },
  {
   "metadata": {
    "ExecuteTime": {
     "end_time": "2025-02-20T02:52:08.795700Z",
     "start_time": "2025-02-20T02:52:08.788281Z"
    }
   },
   "cell_type": "code",
   "source": "print(P @ matrix)",
   "id": "e22e9486003e8875",
   "outputs": [
    {
     "name": "stdout",
     "output_type": "stream",
     "text": [
      "[[ 4  6 71  1]\n",
      " [ 4 61 71  1]\n",
      " [ 4  6  7 13]\n",
      " [ 1  0  8  1]]\n"
     ]
    }
   ],
   "execution_count": 7
  },
  {
   "metadata": {
    "ExecuteTime": {
     "end_time": "2025-02-20T02:52:08.819364Z",
     "start_time": "2025-02-20T02:52:08.814392Z"
    }
   },
   "cell_type": "code",
   "source": "print((L @ U).astype(int))",
   "id": "9131d3b59fc5f174",
   "outputs": [
    {
     "name": "stdout",
     "output_type": "stream",
     "text": [
      "[[ 4  6 71  1]\n",
      " [ 4 61 71  1]\n",
      " [ 4  6  7 13]\n",
      " [ 1  0  8  1]]\n"
     ]
    }
   ],
   "execution_count": 8
  },
  {
   "metadata": {
    "ExecuteTime": {
     "end_time": "2025-02-20T02:52:08.875154Z",
     "start_time": "2025-02-20T02:52:08.868823Z"
    }
   },
   "cell_type": "code",
   "source": "print(L)",
   "id": "19d23d4b77ff7161",
   "outputs": [
    {
     "name": "stdout",
     "output_type": "stream",
     "text": [
      "[[ 1.          0.          0.          0.        ]\n",
      " [ 1.          1.          0.          0.        ]\n",
      " [ 1.          0.          1.          0.        ]\n",
      " [ 0.25       -0.02727273  0.15234375  1.        ]]\n"
     ]
    }
   ],
   "execution_count": 9
  },
  {
   "metadata": {
    "ExecuteTime": {
     "end_time": "2025-02-20T02:52:08.926822Z",
     "start_time": "2025-02-20T02:52:08.918693Z"
    }
   },
   "cell_type": "code",
   "source": "print(U)",
   "id": "df655a1492223a75",
   "outputs": [
    {
     "name": "stdout",
     "output_type": "stream",
     "text": [
      "[[  4.         6.        71.         1.      ]\n",
      " [  0.        55.         0.         0.      ]\n",
      " [  0.         0.       -64.        12.      ]\n",
      " [  0.         0.         0.        -1.078125]]\n"
     ]
    }
   ],
   "execution_count": 10
  },
  {
   "metadata": {
    "ExecuteTime": {
     "end_time": "2025-02-20T02:52:38.295814Z",
     "start_time": "2025-02-20T02:52:08.940893Z"
    }
   },
   "cell_type": "code",
   "source": [
    "def generate_well_conditioned_matrix(n, cond_number=10):\n",
    "\n",
    "    A_rand = np.random.randn(n, n)\n",
    "    U, _ = np.linalg.qr(A_rand)\n",
    "    B_rand = np.random.randn(n, n)\n",
    "    V, _ = np.linalg.qr(B_rand)\n",
    "\n",
    "    singular_values = np.linspace(1, 1/cond_number, n)  # равномерно убывающие значения\n",
    "\n",
    "    Sigma = np.diag(singular_values)\n",
    "    A = U @ Sigma @ V.T\n",
    "\n",
    "    return A\n",
    "\n",
    "\n",
    "matrix = generate_well_conditioned_matrix(5 * 10 ** 3, cond_number=100)\n"
   ],
   "id": "11b707f802a18423",
   "outputs": [],
   "execution_count": 11
  },
  {
   "metadata": {
    "ExecuteTime": {
     "end_time": "2025-02-20T02:54:54.738947Z",
     "start_time": "2025-02-20T02:52:38.318947Z"
    }
   },
   "cell_type": "code",
   "source": "P, L, U = findLUP(matrix)\n",
   "id": "591766886e9aa0f8",
   "outputs": [],
   "execution_count": 12
  },
  {
   "metadata": {
    "ExecuteTime": {
     "end_time": "2025-02-20T02:54:58.381284Z",
     "start_time": "2025-02-20T02:54:54.893401Z"
    }
   },
   "cell_type": "code",
   "source": "np.allclose(P @ matrix, L @ U, rtol=1e-03, atol=1e-03)",
   "id": "4c58fdb0affe6b81",
   "outputs": [
    {
     "data": {
      "text/plain": [
       "True"
      ]
     },
     "execution_count": 13,
     "metadata": {},
     "output_type": "execute_result"
    }
   ],
   "execution_count": 13
  }
 ],
 "metadata": {
  "kernelspec": {
   "display_name": "Python 3",
   "language": "python",
   "name": "python3"
  },
  "language_info": {
   "codemirror_mode": {
    "name": "ipython",
    "version": 2
   },
   "file_extension": ".py",
   "mimetype": "text/x-python",
   "name": "python",
   "nbconvert_exporter": "python",
   "pygments_lexer": "ipython2",
   "version": "2.7.6"
  }
 },
 "nbformat": 4,
 "nbformat_minor": 5
}
