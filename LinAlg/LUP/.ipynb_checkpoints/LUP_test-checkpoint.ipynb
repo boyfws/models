{
 "cells": [
  {
   "metadata": {
    "ExecuteTime": {
     "end_time": "2025-02-20T01:21:51.744045Z",
     "start_time": "2025-02-20T01:21:51.739224Z"
    }
   },
   "cell_type": "code",
   "source": "import numpy as np\n",
   "id": "6e26a5ddf320be6f",
   "outputs": [],
   "execution_count": 4
  },
  {
   "metadata": {
    "collapsed": true,
    "ExecuteTime": {
     "end_time": "2025-02-20T01:21:51.772821Z",
     "start_time": "2025-02-20T01:21:51.766483Z"
    }
   },
   "cell_type": "code",
   "source": "from LUP import findLUP",
   "id": "initial_id",
   "outputs": [],
   "execution_count": 5
  },
  {
   "metadata": {
    "ExecuteTime": {
     "end_time": "2025-02-20T01:21:51.810965Z",
     "start_time": "2025-02-20T01:21:51.802542Z"
    }
   },
   "cell_type": "code",
   "source": [
    "matrix = np.array(\n",
    "    [\n",
    "        [ 4, 6, 71, 1],\n",
    "        [ 1, 0, 8, 1],\n",
    "        [4, 61, 71, 1],\n",
    "        [ 4, 6, 7, 13],\n",
    "    ]\n",
    ")"
   ],
   "id": "ea9d707781cf1d3d",
   "outputs": [],
   "execution_count": 6
  },
  {
   "metadata": {
    "ExecuteTime": {
     "end_time": "2025-02-20T01:21:51.900381Z",
     "start_time": "2025-02-20T01:21:51.887815Z"
    }
   },
   "cell_type": "code",
   "source": "matrix.shape",
   "id": "90cc9d60a88bebbd",
   "outputs": [
    {
     "data": {
      "text/plain": [
       "(4, 4)"
      ]
     },
     "execution_count": 7,
     "metadata": {},
     "output_type": "execute_result"
    }
   ],
   "execution_count": 7
  },
  {
   "metadata": {
    "ExecuteTime": {
     "end_time": "2025-02-20T01:21:52.013494Z",
     "start_time": "2025-02-20T01:21:51.985480Z"
    }
   },
   "cell_type": "code",
   "source": [
    "sing_val = np.linalg.svd(matrix).S\n",
    "\n",
    "\n",
    "sing_val.max() / sing_val.min()"
   ],
   "id": "488bc5e5651164ea",
   "outputs": [
    {
     "data": {
      "text/plain": [
       "394.6374923531631"
      ]
     },
     "execution_count": 8,
     "metadata": {},
     "output_type": "execute_result"
    }
   ],
   "execution_count": 8
  },
  {
   "metadata": {
    "ExecuteTime": {
     "end_time": "2025-02-20T01:21:52.115142Z",
     "start_time": "2025-02-20T01:21:52.108212Z"
    }
   },
   "cell_type": "code",
   "source": "P, L, U = findLUP(matrix)",
   "id": "7c4e8482e35e3cef",
   "outputs": [],
   "execution_count": 9
  },
  {
   "metadata": {
    "ExecuteTime": {
     "end_time": "2025-02-20T01:21:52.151626Z",
     "start_time": "2025-02-20T01:21:52.141631Z"
    }
   },
   "cell_type": "code",
   "source": "P @ matrix",
   "id": "e22e9486003e8875",
   "outputs": [
    {
     "data": {
      "text/plain": [
       "array([[ 4,  6, 71,  1],\n",
       "       [ 4, 61, 71,  1],\n",
       "       [ 4,  6,  7, 13],\n",
       "       [ 1,  0,  8,  1]])"
      ]
     },
     "execution_count": 10,
     "metadata": {},
     "output_type": "execute_result"
    }
   ],
   "execution_count": 10
  },
  {
   "metadata": {
    "ExecuteTime": {
     "end_time": "2025-02-20T01:21:52.230183Z",
     "start_time": "2025-02-20T01:21:52.218251Z"
    }
   },
   "cell_type": "code",
   "source": "L @ U",
   "id": "9131d3b59fc5f174",
   "outputs": [
    {
     "data": {
      "text/plain": [
       "array([[ 4.,  6., 71.,  1.],\n",
       "       [ 4., 61., 71.,  1.],\n",
       "       [ 4.,  6.,  7., 13.],\n",
       "       [ 4.,  6.,  7., 13.]], dtype=float32)"
      ]
     },
     "execution_count": 11,
     "metadata": {},
     "output_type": "execute_result"
    }
   ],
   "execution_count": 11
  }
 ],
 "metadata": {
  "kernelspec": {
   "display_name": "Python 3",
   "language": "python",
   "name": "python3"
  },
  "language_info": {
   "codemirror_mode": {
    "name": "ipython",
    "version": 2
   },
   "file_extension": ".py",
   "mimetype": "text/x-python",
   "name": "python",
   "nbconvert_exporter": "python",
   "pygments_lexer": "ipython2",
   "version": "2.7.6"
  }
 },
 "nbformat": 4,
 "nbformat_minor": 5
}
